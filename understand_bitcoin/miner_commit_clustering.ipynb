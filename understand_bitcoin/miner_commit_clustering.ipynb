{
 "cells": [
  {
   "cell_type": "code",
   "execution_count": 1,
   "metadata": {
    "collapsed": false
   },
   "outputs": [
    {
     "name": "stderr",
     "output_type": "stream",
     "text": [
      "Installing package into ‘/usr/local/lib/R/site-library’\n",
      "(as ‘lib’ is unspecified)\n",
      "Warning message:\n",
      "In install.packages(\"jsonlite\"): 'lib = \"/usr/local/lib/R/site-library\"' is not writable"
     ]
    },
    {
     "ename": "ERROR",
     "evalue": "Error in install.packages(\"jsonlite\"): unable to install packages\n",
     "output_type": "error",
     "traceback": [
      "Error in install.packages(\"jsonlite\"): unable to install packages\n"
     ]
    },
    {
     "name": "stderr",
     "output_type": "stream",
     "text": [
      "Installing package into ‘/usr/local/lib/R/site-library’\n",
      "(as ‘lib’ is unspecified)\n",
      "Warning message:\n",
      "In install.packages(\"dplyr\"): 'lib = \"/usr/local/lib/R/site-library\"' is not writable"
     ]
    },
    {
     "ename": "ERROR",
     "evalue": "Error in install.packages(\"dplyr\"): unable to install packages\n",
     "output_type": "error",
     "traceback": [
      "Error in install.packages(\"dplyr\"): unable to install packages\n"
     ]
    },
    {
     "name": "stderr",
     "output_type": "stream",
     "text": [
      "Loading required package: jsonlite\n",
      "\n",
      "Attaching package: ‘jsonlite’\n",
      "\n",
      "The following object is masked from ‘package:utils’:\n",
      "\n",
      "    View\n",
      "\n",
      "Loading required package: dplyr\n",
      "\n",
      "Attaching package: ‘dplyr’\n",
      "\n",
      "The following objects are masked from ‘package:stats’:\n",
      "\n",
      "    filter, lag\n",
      "\n",
      "The following objects are masked from ‘package:base’:\n",
      "\n",
      "    intersect, setdiff, setequal, union\n",
      "\n"
     ]
    },
    {
     "ename": "ERROR",
     "evalue": "Error in eval(expr, envir, enclos): could not find function \"VCorpus\"\n",
     "output_type": "error",
     "traceback": [
      "Error in eval(expr, envir, enclos): could not find function \"VCorpus\"\n"
     ]
    },
    {
     "ename": "ERROR",
     "evalue": "Error in eval(expr, envir, enclos): could not find function \"tm_map\"\n",
     "output_type": "error",
     "traceback": [
      "Error in eval(expr, envir, enclos): could not find function \"tm_map\"\n"
     ]
    },
    {
     "ename": "ERROR",
     "evalue": "Error in eval(expr, envir, enclos): could not find function \"tm_map\"\n",
     "output_type": "error",
     "traceback": [
      "Error in eval(expr, envir, enclos): could not find function \"tm_map\"\n"
     ]
    },
    {
     "ename": "ERROR",
     "evalue": "Error in eval(expr, envir, enclos): could not find function \"tm_map\"\n",
     "output_type": "error",
     "traceback": [
      "Error in eval(expr, envir, enclos): could not find function \"tm_map\"\n"
     ]
    },
    {
     "ename": "ERROR",
     "evalue": "Error in eval(expr, envir, enclos): could not find function \"tm_map\"\n",
     "output_type": "error",
     "traceback": [
      "Error in eval(expr, envir, enclos): could not find function \"tm_map\"\n"
     ]
    },
    {
     "ename": "ERROR",
     "evalue": "Error in eval(expr, envir, enclos): could not find function \"tm_map\"\n",
     "output_type": "error",
     "traceback": [
      "Error in eval(expr, envir, enclos): could not find function \"tm_map\"\n"
     ]
    },
    {
     "ename": "ERROR",
     "evalue": "Error in eval(expr, envir, enclos): could not find function \"tm_map\"\n",
     "output_type": "error",
     "traceback": [
      "Error in eval(expr, envir, enclos): could not find function \"tm_map\"\n"
     ]
    },
    {
     "ename": "ERROR",
     "evalue": "Error in eval(expr, envir, enclos): could not find function \"DocumentTermMatrix\"\n",
     "output_type": "error",
     "traceback": [
      "Error in eval(expr, envir, enclos): could not find function \"DocumentTermMatrix\"\n"
     ]
    },
    {
     "ename": "ERROR",
     "evalue": "Error in eval(expr, envir, enclos): could not find function \"weightTfIdf\"\n",
     "output_type": "error",
     "traceback": [
      "Error in eval(expr, envir, enclos): could not find function \"weightTfIdf\"\n"
     ]
    }
   ],
   "source": [
    "install.packages(\"jsonlite\")\n",
    "install.packages(\"dplyr\")\n",
    "\n",
    "require(jsonlite)\n",
    "require(dplyr)\n",
    "\n",
    "# import commits from JSON\n",
    "comments <- fromJSON(\"http://pyro.primeprocessor.com:8888/files/comments.json\")\n",
    "\n",
    "# create corpus\n",
    "comments <- VCorpus(VectorSource(comments$comment))\n",
    "\n",
    "# remove puncutation, stopwords, numbers, whitespace\n",
    "mod <- tm_map(comments, tolower)\n",
    "mod <- tm_map(mod, removePunctuation)\n",
    "mod <- tm_map(mod, removeNumbers)\n",
    "mod <- tm_map(res, removeWords, stopwords(\"english\"))\n",
    "mod <- tm_map(mod, stripWhitespace)\n",
    "\n",
    "mod <- tm_map(mod, PlainTextDocument)\n",
    "dtm <- DocumentTermMatrix(mod)"
   ]
  },
  {
   "cell_type": "markdown",
   "metadata": {},
   "source": [
    "The term-frequency-inverse-document-frequency matrix assigns weights to words in a document according to their frequency of appearance.  To account for the fact that some words appear more frequently in a given corpus (a collection of documents), each term frequency is multiplied by the inverse document frequency.  This tampers the weights.  "
   ]
  },
  {
   "cell_type": "code",
   "execution_count": null,
   "metadata": {
    "collapsed": true
   },
   "outputs": [],
   "source": [
    "dtm_tfxidf <- weightTfIdf(dtm)"
   ]
  },
  {
   "cell_type": "code",
   "execution_count": null,
   "metadata": {
    "collapsed": true
   },
   "outputs": [],
   "source": [
    "term_wt <- apply(dtm_tfxidf,2,sum)\n",
    "length(term_wt[which(term_wt>2.5)])\n",
    "\n",
    "dtm_tfxidf <- dtm_tfxidf[,term_wt>2.5]\n",
    "\n",
    "tss <- c()\n",
    "for (i in 1:50) {\n",
    "  fit <- kmeans(dtm_tfxidf, i)\n",
    "  tss[i] <- sum(fit$tot.withinss)\n",
    "}\n",
    "\n",
    "# no elbow in chart, pick k = 10\n",
    "plot(tss, main=\"Optimal K's\", ylab=\"Total SS Within\", xlab=\"# of ks\")\n",
    "\n",
    "fit <- kmeans(dtm_tfxidf, 10)\n",
    "clusters <- fit$cluster\n",
    "\n",
    "clust.df <- as.matrix(dtm_tfxidf)\n",
    "clust.df<- as.data.frame(clust.df)\n",
    "all <- cbind(fit$cluster,clust.df)\n",
    "\n",
    "names(all)[1] <- \"cluster\"\n",
    "\n",
    "freq_terms <- list()\n",
    "for (i in 1:10) {\n",
    "  selection <- all %>% filter(cluster==i)\n",
    "  vector <- colSums(selection[,-1]) %>% sort(., decreasing=T)\n",
    "  freq_terms[[i]] <- vector[1:5]\n",
    "}\n",
    "\n"
   ]
  }
 ],
 "metadata": {
  "kernelspec": {
   "display_name": "R",
   "language": "R",
   "name": "ir"
  },
  "language_info": {
   "codemirror_mode": "r",
   "file_extension": ".r",
   "mimetype": "text/x-r-source",
   "name": "R",
   "pygments_lexer": "r",
   "version": "3.2.2"
  }
 },
 "nbformat": 4,
 "nbformat_minor": 0
}
