{
 "cells": [
  {
   "cell_type": "code",
   "execution_count": 5,
   "metadata": {
    "collapsed": false
   },
   "outputs": [],
   "source": [
    "require(jsonlite)\n",
    "require(dplyr)\n",
    "require(tm)\n",
    "\n",
    "# import commits from JSON\n",
    "comments <- fromJSON(\"http://pyro.primeprocessor.com:8888/files/comments.json\")\n",
    "\n",
    "# create corpus\n",
    "comments <- VCorpus(VectorSource(comments$comment))\n",
    "\n",
    "# remove puncutation, stopwords, numbers, whitespace\n",
    "mod <- tm_map(comments, tolower)\n",
    "mod <- tm_map(mod, removePunctuation)\n",
    "mod <- tm_map(mod, removeNumbers)\n",
    "mod <- tm_map(mod, removeWords, stopwords(\"english\"))\n",
    "mod <- tm_map(mod, stripWhitespace)\n",
    "\n",
    "mod <- tm_map(mod, PlainTextDocument)\n",
    "dtm <- DocumentTermMatrix(mod)"
   ]
  },
  {
   "cell_type": "code",
   "execution_count": 10,
   "metadata": {
    "collapsed": false
   },
   "outputs": [
    {
     "data": {
      "text/html": [
       "<ol class=list-inline>\n",
       "\t<li>7655</li>\n",
       "\t<li>6202</li>\n",
       "</ol>\n"
      ],
      "text/latex": [
       "\\begin{enumerate*}\n",
       "\\item 7655\n",
       "\\item 6202\n",
       "\\end{enumerate*}\n"
      ],
      "text/markdown": [
       "1. 7655\n",
       "2. 6202\n",
       "\n",
       "\n"
      ],
      "text/plain": [
       "[1] 7655 6202"
      ]
     },
     "execution_count": 10,
     "metadata": {},
     "output_type": "execute_result"
    },
    {
     "name": "stdout",
     "output_type": "stream",
     "text": [
      "<<DocumentTermMatrix (documents: 1, terms: 5)>>\n",
      "Non-/sparse entries: 0/5\n",
      "Sparsity           : 100%\n",
      "Maximal term length: 17\n",
      "Weighting          : term frequency (tf)\n",
      "\n",
      "              Terms\n",
      "Docs           aadfabebeacaaeade aaeaeecebfb aaebcffcdafccdbf aaron\n",
      "  character(0)                 0           0                0     0\n",
      "              Terms\n",
      "Docs           abacaacfbbccfb\n",
      "  character(0)              0\n"
     ]
    }
   ],
   "source": [
    "dim(dtm)\n",
    "inspect(dtm[1,1:5])"
   ]
  },
  {
   "cell_type": "markdown",
   "metadata": {},
   "source": [
    "The term-frequency-inverse-document-frequency matrix assigns weights to words in a document according to their frequency of appearance.  To account for the fact that some words appear more frequently in a given corpus (a collection of documents), each term frequency is multiplied by the inverse document frequency.  This tampers the weights.  "
   ]
  },
  {
   "cell_type": "code",
   "execution_count": 12,
   "metadata": {
    "collapsed": false
   },
   "outputs": [
    {
     "name": "stderr",
     "output_type": "stream",
     "text": [
      "Warning message:\n",
      "In weightTfIdf(dtm): empty document(s): character(0)"
     ]
    }
   ],
   "source": [
    "dtm_tfxidf <- weightTfIdf(dtm)"
   ]
  },
  {
   "cell_type": "code",
   "execution_count": null,
   "metadata": {
    "collapsed": true
   },
   "outputs": [],
   "source": [
    "term_wt <- apply(dtm_tfxidf,2,sum)\n",
    "length(term_wt[which(term_wt>2.5)])\n",
    "\n",
    "dtm_tfxidf <- dtm_tfxidf[,term_wt>2.5]\n",
    "\n",
    "# Determine optimal number of clusters\n",
    "tss <- c()\n",
    "for (i in 1:50) {\n",
    "  fit <- kmeans(dtm_tfxidf, i)\n",
    "  tss[i] <- sum(fit$tot.withinss)\n",
    "}\n",
    "\n",
    "# no elbow in chart, pick k = 10\n",
    "plot(tss, main=\"Optimal K's\", ylab=\"Total SS Within\", xlab=\"# of ks\")\n",
    "\n",
    "fit <- kmeans(dtm_tfxidf, 10)\n",
    "clusters <- fit$cluster\n",
    "\n",
    "clust.df <- as.matrix(dtm_tfxidf)\n",
    "clust.df<- as.data.frame(clust.df)\n",
    "all <- cbind(fit$cluster,clust.df)\n",
    "\n",
    "names(all)[1] <- \"cluster\"\n",
    "\n",
    "# Find top 5 words by weight for each cluster\n",
    "freq_terms <- list()\n",
    "for (i in 1:10) {\n",
    "  selection <- all %>% filter(cluster==i)\n",
    "  vector <- colSums(selection[,-1]) %>% sort(., decreasing=T)\n",
    "  freq_terms[[i]] <- vector[1:5]\n",
    "}\n",
    "\n"
   ]
  }
 ],
 "metadata": {
  "kernelspec": {
   "display_name": "R",
   "language": "R",
   "name": "ir"
  },
  "language_info": {
   "codemirror_mode": "r",
   "file_extension": ".r",
   "mimetype": "text/x-r-source",
   "name": "R",
   "pygments_lexer": "r",
   "version": "3.2.2"
  }
 },
 "nbformat": 4,
 "nbformat_minor": 0
}
