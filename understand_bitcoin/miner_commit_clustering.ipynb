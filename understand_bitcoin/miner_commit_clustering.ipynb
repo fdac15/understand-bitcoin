{
 "cells": [
  {
   "cell_type": "markdown",
   "metadata": {},
   "source": [
    "First, we convert all the comments into a document corpus, a data type used in text mining.  We then perform pre-processing, such as removing puncutation, numbers, whitespace and stopwords.    \n",
    "\n",
    "Next, we conver the documents to a document term matrix, where each row is a commit comment and each column is a word.  "
   ]
  },
  {
   "cell_type": "code",
   "execution_count": 9,
   "metadata": {
    "collapsed": false
   },
   "outputs": [
    {
     "name": "stdout",
     "output_type": "stream",
     "text": [
      "<<VCorpus>>\n",
      "Metadata:  corpus specific: 0, document level (indexed): 0\n",
      "Content:  documents: 7655\n"
     ]
    }
   ],
   "source": [
    "require(jsonlite)\n",
    "require(dplyr)\n",
    "require(tm)\n",
    "\n",
    "# import commits from JSON\n",
    "comments <- fromJSON(\"http://pyro.primeprocessor.com:8888/files/comments.json\")\n",
    "#print(comments$comment[1:2])\n",
    "# create corpus\n",
    "comments <- VCorpus(VectorSource(comments$comment))\n",
    "#comments <- VCorpus(VectorSource(c(\"aa bb c\", \"b c\",\"b c d\")))\n",
    "# remove puncutation, stopwords, numbers, whitespace\n",
    "mod <- tm_map(comments, tolower)\n",
    "mod <- tm_map(mod, removePunctuation)\n",
    "mod <- tm_map(mod, removeNumbers)\n",
    "mod <- tm_map(mod, removeWords, stopwords(\"english\"))\n",
    "mod <- tm_map(mod, stripWhitespace)\n",
    "print(mod)\n",
    "mod <- tm_map(mod, PlainTextDocument)\n",
    "dtm <- DocumentTermMatrix(mod)"
   ]
  },
  {
   "cell_type": "markdown",
   "metadata": {},
   "source": [
    "We examine the size of the document-term matrix (dtm).  It has 7655 comments and 6202 words"
   ]
  },
  {
   "cell_type": "code",
   "execution_count": 10,
   "metadata": {
    "collapsed": false
   },
   "outputs": [
    {
     "data": {
      "text/html": [
       "<ol class=list-inline>\n",
       "\t<li>7655</li>\n",
       "\t<li>6202</li>\n",
       "</ol>\n"
      ],
      "text/latex": [
       "\\begin{enumerate*}\n",
       "\\item 7655\n",
       "\\item 6202\n",
       "\\end{enumerate*}\n"
      ],
      "text/markdown": [
       "1. 7655\n",
       "2. 6202\n",
       "\n",
       "\n"
      ],
      "text/plain": [
       "[1] 7655 6202"
      ]
     },
     "execution_count": 10,
     "metadata": {},
     "output_type": "execute_result"
    },
    {
     "name": "stdout",
     "output_type": "stream",
     "text": [
      "<<DocumentTermMatrix (documents: 1, terms: 1)>>\n",
      "Non-/sparse entries: 0/1\n",
      "Sparsity           : 100%\n",
      "Maximal term length: 17\n",
      "Weighting          : term frequency (tf)\n",
      "\n",
      "              Terms\n",
      "Docs           aadfabebeacaaeade\n",
      "  character(0)                 0\n"
     ]
    }
   ],
   "source": [
    "dim(dtm)\n",
    "inspect(dtm[1,1])"
   ]
  },
  {
   "cell_type": "markdown",
   "metadata": {},
   "source": [
    "The term-frequency-inverse-document-frequency matrix assigns weights to words in a document according to their frequency of appearance.  To account for the fact that some words appear more frequently in a given corpus (a collection of documents), each term frequency is multiplied by the inverse document frequency.  This tampers the weights.  "
   ]
  },
  {
   "cell_type": "code",
   "execution_count": 11,
   "metadata": {
    "collapsed": false
   },
   "outputs": [],
   "source": [
    "dtm_tfxidf <- weightTfIdf(dtm, normalize=F)"
   ]
  },
  {
   "cell_type": "markdown",
   "metadata": {},
   "source": [
    "There are too many words to analyze.  We exclude words without meaning by the following technique.  We take the column sums of the weighted matrix.  Then, we take the terms whose cumulative weight is over 70.  This leaves us with 1296 words. "
   ]
  },
  {
   "cell_type": "code",
   "execution_count": 22,
   "metadata": {
    "collapsed": false
   },
   "outputs": [
    {
     "data": {
      "text/html": [
       "1296"
      ],
      "text/latex": [
       "1296"
      ],
      "text/markdown": [
       "1296"
      ],
      "text/plain": [
       "[1] 1296"
      ]
     },
     "execution_count": 22,
     "metadata": {},
     "output_type": "execute_result"
    }
   ],
   "source": [
    "term_wt <- apply(dtm_tfxidf,2,sum)\n",
    "length(term_wt[which(term_wt>70)])"
   ]
  },
  {
   "cell_type": "code",
   "execution_count": 24,
   "metadata": {
    "collapsed": true
   },
   "outputs": [],
   "source": [
    "dtm_tfxidf <- dtm_tfxidf[,term_wt>70]"
   ]
  },
  {
   "cell_type": "markdown",
   "metadata": {},
   "source": [
    "K Means clustering works in the following way.  First, we specify k number of clusters.  We randomly assign cluster centers in a n-dimensional space, where n equals the number of terms.  We take the mean of the points (documents) closest to the given clusters and then use that location as the new cluster center location.  We repeat this iteratively until the mean converges (no more changes) or the cumulative squared difference between all the points in a cluster and the center doesn't decrease by a given threshold.  "
   ]
  },
  {
   "cell_type": "code",
   "execution_count": 28,
   "metadata": {
    "collapsed": false
   },
   "outputs": [],
   "source": [
    "# Determine optimal number of clusters\n",
    "#tss <- c()\n",
    "#for (i in 1:50) {\n",
    "#  fit <- kmeans(dtm_tfxidf, i)\n",
    "#  tss[i] <- sum(fit$tot.withinss)\n",
    "#}\n",
    "\n",
    "# no elbow in chart, pick k = 10\n",
    "#plot(tss, main=\"Optimal K's\", ylab=\"Total SS Within\", xlab=\"# of ks\")\n",
    "\n",
    "options(warn=-1)\n",
    "\n",
    "fit <- kmeans(dtm_tfxidf, 10)\n",
    "clusters <- fit$cluster\n",
    "\n",
    "clust.df <- as.matrix(dtm_tfxidf)\n",
    "clust.df<- as.data.frame(clust.df)\n",
    "all <- cbind(fit$cluster,clust.df)\n",
    "\n",
    "names(all)[1] <- \"cluster\"\n",
    "\n",
    "options(warn=0)"
   ]
  },
  {
   "cell_type": "markdown",
   "metadata": {},
   "source": [
    "Each cluster has a given number of documents assigned to it.  To obtain the 5 most popular terms in a cluster, we once again obtain the cumulative sum of the weights for all the docs in a given cluster.  We then output the top 5 words for each cluster.  "
   ]
  },
  {
   "cell_type": "code",
   "execution_count": 26,
   "metadata": {
    "collapsed": true
   },
   "outputs": [],
   "source": [
    "# Find top 5 words by weight for each cluster\n",
    "freq_terms <- list()\n",
    "for (i in 1:10) {\n",
    "  selection <- all %>% filter(cluster==i)\n",
    "  vector <- colSums(selection[,-1]) %>% sort(., decreasing=T)\n",
    "  freq_terms[[i]] <- vector[1:5]\n",
    "}"
   ]
  },
  {
   "cell_type": "code",
   "execution_count": 27,
   "metadata": {
    "collapsed": false
   },
   "outputs": [
    {
     "name": "stdout",
     "output_type": "stream",
     "text": [
      "[[1]]\n",
      "   merge  version      api      usb  support \n",
      "2601.990 1354.445 1260.020 1176.678 1147.433 \n",
      "\n",
      "[[2]]\n",
      "     pool   message   lagging      flag     share \n",
      "1549.7309  133.7105  121.4225  118.5146  108.7957 \n",
      "\n",
      "[[3]]\n",
      "  timeout       win       usb   seconds   message \n",
      "702.57681 329.13314 110.01465  66.98480  61.28397 \n",
      "\n",
      "[[4]]\n",
      "generation       pool      based    sprintf       make \n",
      " 337.94412   23.13031   20.98589   19.80437   18.61704 \n",
      "\n",
      "[[5]]\n",
      "    driver     icarus        usb       send   firmware \n",
      "1336.86549   72.08843   66.96544   51.80738   51.22057 \n",
      "\n",
      "[[6]]\n",
      "      end  scanhash      data       now   without \n",
      "279.82453  47.41312  40.55564  37.54998  31.58612 \n",
      "\n",
      "[[7]]\n",
      "     will   cgminer    within   seconds     cause \n",
      "430.67414  55.69147  30.17854  29.77102  29.19678 \n",
      "\n",
      "[[8]]\n",
      "         file configuration     configure     reference       cgminer \n",
      "    514.33444     126.43499      39.07362      37.77102      37.12765 \n",
      "\n",
      "[[9]]\n",
      "      make       sure   possible        new    compile \n",
      "1247.34145  313.36150  125.02491   77.99778   70.94832 \n",
      "\n",
      "[[10]]\n",
      "      one      curl   startup       new  firmware \n",
      "898.23033  51.43318  48.47435  44.57016  43.90334 \n",
      "\n"
     ]
    }
   ],
   "source": [
    "print (freq_terms)"
   ]
  }
 ],
 "metadata": {
  "kernelspec": {
   "display_name": "R",
   "language": "R",
   "name": "ir"
  },
  "language_info": {
   "codemirror_mode": "r",
   "file_extension": ".r",
   "mimetype": "text/x-r-source",
   "name": "R",
   "pygments_lexer": "r",
   "version": "3.2.2"
  }
 },
 "nbformat": 4,
 "nbformat_minor": 0
}
